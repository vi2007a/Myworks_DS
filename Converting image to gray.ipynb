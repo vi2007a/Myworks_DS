{
 "cells": [
  {
   "cell_type": "markdown",
   "id": "bb593796",
   "metadata": {},
   "source": [
    "Convert image to a pencil sketch using python\n"
   ]
  },
  {
   "cell_type": "code",
   "execution_count": 1,
   "id": "cafa885d",
   "metadata": {},
   "outputs": [],
   "source": [
    "import cv2\n",
    "\n"
   ]
  },
  {
   "cell_type": "code",
   "execution_count": 2,
   "id": "b9dec22c",
   "metadata": {},
   "outputs": [],
   "source": [
    "image = cv2.imread(\"cat.jpg.crdownload\")"
   ]
  },
  {
   "cell_type": "code",
   "execution_count": null,
   "id": "8f8590e6",
   "metadata": {},
   "outputs": [],
   "source": [
    "image"
   ]
  },
  {
   "cell_type": "code",
   "execution_count": 3,
   "id": "47046408",
   "metadata": {},
   "outputs": [],
   "source": [
    "gray_image = cv2.cvtColor(image ,cv2.COLOR_BGR2GRAY)"
   ]
  },
  {
   "cell_type": "code",
   "execution_count": 4,
   "id": "781349a2",
   "metadata": {},
   "outputs": [],
   "source": [
    "inverted_image = 255 - gray_image"
   ]
  },
  {
   "cell_type": "code",
   "execution_count": 5,
   "id": "c4b2246b",
   "metadata": {},
   "outputs": [],
   "source": [
    "blurred  = cv2.GaussianBlur(inverted_image , (21, 21) , 0)\n",
    "inverted_blurred = 255 -blurred\n",
    "pencil_sktech = cv2.divide(gray_image , inverted_blurred , scale = 256.0)"
   ]
  },
  {
   "cell_type": "code",
   "execution_count": 7,
   "id": "d9bff169",
   "metadata": {},
   "outputs": [
    {
     "data": {
      "text/plain": [
       "-1"
      ]
     },
     "execution_count": 7,
     "metadata": {},
     "output_type": "execute_result"
    }
   ],
   "source": [
    "cv2.imshow(\"Orginal image\" , image)\n",
    "cv2.imshow(\"Pencil Sktch of Cat\" , pencil_sktech)\n",
    "cv2.waitKey(0)\n"
   ]
  },
  {
   "cell_type": "code",
   "execution_count": null,
   "id": "b8431dda",
   "metadata": {},
   "outputs": [],
   "source": []
  }
 ],
 "metadata": {
  "kernelspec": {
   "display_name": "Python 3",
   "language": "python",
   "name": "python3"
  },
  "language_info": {
   "codemirror_mode": {
    "name": "ipython",
    "version": 3
   },
   "file_extension": ".py",
   "mimetype": "text/x-python",
   "name": "python",
   "nbconvert_exporter": "python",
   "pygments_lexer": "ipython3",
   "version": "3.8.8"
  }
 },
 "nbformat": 4,
 "nbformat_minor": 5
}
